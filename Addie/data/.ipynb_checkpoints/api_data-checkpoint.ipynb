{
 "cells": [
  {
   "cell_type": "code",
   "execution_count": null,
   "metadata": {},
   "outputs": [],
   "source": [
    "import requests\n",
    "import json"
   ]
  },
  {
   "cell_type": "code",
   "execution_count": null,
   "metadata": {},
   "outputs": [],
   "source": [
    "api_key = \"SzJT9rMVM1caktWPqH0sEhmSMHxtuYMgKEGoALPb\"\n",
    "\n",
    "url = \"https://api.nasa.gov/planetary/apod?api_key=\""
   ]
  },
  {
   "cell_type": "code",
   "execution_count": null,
   "metadata": {},
   "outputs": [],
   "source": [
    "\n",
    "response = requests.get(url + api_key).json()\n",
    "print(json.dumps(response, indent=4, sort_keys=True))"
   ]
  }
 ],
 "metadata": {
  "language_info": {
   "name": "python"
  }
 },
 "nbformat": 4,
 "nbformat_minor": 2
}
